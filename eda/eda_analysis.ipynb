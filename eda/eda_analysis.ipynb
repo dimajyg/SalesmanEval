{
 "cells": [
  {
   "cell_type": "code",
   "execution_count": null,
   "id": "import-libraries",
   "metadata": {},
   "outputs": [],
   "source": [
    "import cv2\n",
    "import pandas as pd\n",
    "import os\n",
    "import matplotlib.pyplot as plt\n",
    "from ultralytics import YOLO\n",
    "import numpy as np"
   ]
  },
  {
   "cell_type": "markdown",
   "metadata": {},
   "source": [
    "# Path to the video file"
   ]
  },
  {
   "cell_type": "code",
   "execution_count": null,
   "id": "video-path",
   "metadata": {},
   "outputs": [],
   "source": [
    "video_path = \"path_to_your_video.mp4\""
   ]
  },
  {
   "cell_type": "markdown",
   "metadata": {},
   "source": [
    "## Extracting Video Metadata"
   ]
  },
  {
   "cell_type": "code",
   "execution_count": null,
   "id": "extract-metadata",
   "metadata": {},
   "outputs": [],
   "source": [
    "def extract_video_metadata(video_path):\n",
    "    video = cv2.VideoCapture(video_path)\n",
    "    metadata = {\n",
    "        \"filename\": os.path.basename(video_path),\n",
    "        \"duration\": video.get(cv2.CAP_PROP_FRAME_COUNT) / video.get(cv2.CAP_PROP_FPS),\n",
    "        \"frame_rate\": video.get(cv2.CAP_PROP_FPS),\n",
    "        \"frame_count\": video.get(cv2.CAP_PROP_FRAME_COUNT),\n",
    "        \"width\": video.get(cv2.CAP_PROP_FRAME_WIDTH),\n",
    "        \"height\": video.get(cv2.CAP_PROP_FRAME_HEIGHT),\n",
    "    }\n",
    "    video.release()\n",
    "    return metadata\n",
    "\n",
    "# Extract and display metadata\n",
    "metadata = extract_video_metadata(video_path)\n",
    "print(\"Video Metadata:\", metadata)"
   ]
  },
  {
   "cell_type": "markdown",
   "metadata": {},
   "source": [
    "## Display Metadata as a DataFrame"
   ]
  },
  {
   "cell_type": "code",
   "execution_count": null,
   "id": "metadata-to-df",
   "metadata": {},
   "outputs": [],
   "source": [
    "metadata_df = pd.DataFrame([metadata])\n",
    "metadata_df"
   ]
  },
  {
   "cell_type": "markdown",
   "metadata": {},
   "source": [
    "## Video Resolution Visualization"
   ]
  },
  {
   "cell_type": "code",
   "execution_count": null,
   "id": "resolution-visualization",
   "metadata": {},
   "outputs": [],
   "source": [
    "plt.bar([metadata[\"filename\"]], [metadata[\"width\"] * metadata[\"height\"]])\n",
    "plt.ylabel(\"Resolution (pixels)\")\n",
    "plt.title(\"Video Resolution\")\n",
    "plt.show()"
   ]
  },
  {
   "cell_type": "markdown",
   "metadata": {},
   "source": [
    "## Extracting and Visualizing a Frame"
   ]
  },
  {
   "cell_type": "code",
   "execution_count": null,
   "id": "extract-frame",
   "metadata": {},
   "outputs": [],
   "source": [
    "def extract_frame(video_path, timestamp):\n",
    "    video = cv2.VideoCapture(video_path)\n",
    "    video.set(cv2.CAP_PROP_POS_MSEC, timestamp * 1000)\n",
    "    success, frame = video.read()\n",
    "    if success:\n",
    "        frame_path = f\"frame_at_{timestamp}s.jpg\"\n",
    "        cv2.imwrite(frame_path, frame)\n",
    "        print(f\"Frame extracted and saved at {frame_path}\")\n",
    "    video.release()\n",
    "    return frame\n",
    "\n",
    "frame = extract_frame(video_path, 5)\n",
    "plt.imshow(cv2.cvtColor(frame, cv2.COLOR_BGR2RGB))\n",
    "plt.title(\"Frame at 5 seconds\")\n",
    "plt.axis(\"off\")\n",
    "plt.show()"
   ]
  },
  {
   "cell_type": "markdown",
   "metadata": {},
   "source": [
    "## Playing Video Fragments"
   ]
  },
  {
   "cell_type": "code",
   "execution_count": null,
   "id": "play-video",
   "metadata": {},
   "outputs": [],
   "source": [
    "def play_video_fragment(video_path, start_time, end_time):\n",
    "    video = cv2.VideoCapture(video_path)\n",
    "    frame_rate = int(video.get(cv2.CAP_PROP_FPS))\n",
    "    start_frame = int(start_time * frame_rate)\n",
    "    end_frame = int(end_time * frame_rate)\n",
    "\n",
    "    video.set(cv2.CAP_PROP_POS_FRAMES, start_frame)\n",
    "\n",
    "    while video.isOpened():\n",
    "        ret, frame = video.read()\n",
    "        if not ret or video.get(cv2.CAP_PROP_POS_FRAMES) > end_frame:\n",
    "            break\n",
    "\n",
    "        cv2.imshow(\"Video Fragment\", frame)\n",
    "        if cv2.waitKey(30) & 0xFF == ord('q'):\n",
    "            break\n",
    "\n",
    "    video.release()\n",
    "    cv2.destroyAllWindows()\n",
    "\n",
    "play_video_fragment(video_path, 5, 10)"
   ]
  },
  {
   "cell_type": "markdown",
   "metadata": {},
   "source": [
    "## Object Detection Using YOLO"
   ]
  },
  {
   "cell_type": "code",
   "execution_count": null,
   "id": "object-detection-yolo",
   "metadata": {},
   "outputs": [],
   "source": [
    "model = YOLO(\"yolov8n.pt\")  # Replace with the path to your YOLO model\n",
    "\n",
    "def detect_objects_in_frame(frame):\n",
    "    results = model(frame)\n",
    "    return results[0].plot()  # Plot detections on the frame\n",
    "\n",
    "annotated_frame = detect_objects_in_frame(frame)\n",
    "plt.imshow(cv2.cvtColor(annotated_frame, cv2.COLOR_BGR2RGB))\n",
    "plt.title(\"Objects Detected in Frame\")\n",
    "plt.axis(\"off\")\n",
    "plt.show()"
   ]
  },
  {
   "cell_type": "markdown",
   "metadata": {},
   "source": [
    "## Detect Objects Throughout the Video"
   ]
  },
  {
   "cell_type": "code",
   "execution_count": null,
   "id": "detect-objects-video",
   "metadata": {},
   "outputs": [],
   "source": [
    "def detect_objects_in_video(video_path):\n",
    "    video = cv2.VideoCapture(video_path)\n",
    "    frame_count = int(video.get(cv2.CAP_PROP_FRAME_COUNT))\n",
    "    frame_rate = int(video.get(cv2.CAP_PROP_FPS))\n",
    "    detections = []\n",
    "\n",
    "    for i in range(0, frame_count, frame_rate):  # Analyze 1 frame per second\n",
    "        video.set(cv2.CAP_PROP_POS_FRAMES, i)\n",
    "        success, frame = video.read()\n",
    "        if not success:\n",
    "            break\n",
    "        results = model(frame)\n",
    "        detections.append(len(results[0].boxes))  # Number of objects detected\n",
    "\n",
    "    video.release()\n",
    "    return detections\n",
    "\n",
    "detections = detect_objects_in_video(video_path)\n",
    "plt.plot(detections)\n",
    "plt.xlabel(\"Frame Index\")\n",
    "plt.ylabel(\"Number of Objects\")\n",
    "plt.title(\"Objects Detected Per Frame\")\n",
    "plt.show()"
   ]
  },
  {
   "cell_type": "markdown",
   "metadata": {},
   "source": [
    "## Generate Heatmap of Object Detection"
   ]
  },
  {
   "cell_type": "code",
   "execution_count": null,
   "id": "generate-heatmap",
   "metadata": {},
   "outputs": [],
   "source": [
    "heatmap_data = np.zeros((int(metadata[\"height\"] // 10), int(metadata[\"width\"] // 10)))\n",
    "\n",
    "video = cv2.VideoCapture(video_path)\n",
    "for i in range(0, len(detections), 10):\n",
    "    video.set(cv2.CAP_PROP_POS_FRAMES, i)\n",
    "    success, frame = video.read()\n",
    "    if not success:\n",
    "        break\n",
    "    results = model(frame)\n",
    "    for box in results[0].boxes.xyxy:\n",
    "        x1, y1, x2, y2 = box\n",
    "        x1, x2 = int(x1 // 10), int(x2 // 10)\n",
    "        y1, y2 = int(y1 // 10), int(y2 // 10)\n",
    "        heatmap_data[y1:y2, x1:x2] += 1\n",
    "\n",
    "video.release()\n",
    "plt.imshow(heatmap_data, cmap=\"hot\", interpolation=\"nearest\")\n",
    "plt.title(\"Object Detection Heatmap\")\n",
    "plt.axis(\"off\")\n",
    "plt.show()"
   ]
  },
  {
   "cell_type": "markdown",
   "metadata": {},
   "source": [
    "## Saving Results"
   ]
  },
  {
   "cell_type": "code",
   "execution_count": null,
   "id": "save-results",
   "metadata": {},
   "outputs": [],
   "source": [
    "average_objects = sum(detections) / len(detections)\n",
    "print(f\"Average objects detected per frame: {average_objects}\")\n",
    "\n",
    "output_df = pd.DataFrame({\n",
    "    \"frame_index\": list(range(len(detections))),\n",
    "    \"objects_detected\": detections\n",
    "})\n",
    "output_df.to_csv(\"video_eda_results.csv\", index=False)\n",
    "metadata_df.to_csv(\"video_metadata.csv\", index=False)\n",
    "print(\"EDA results saved to video_eda_results.csv and video_metadata.csv\")"
   ]
  }
 ],
 "metadata": {
  "kernelspec": {
   "display_name": "Python 3",
   "language": "python",
   "name": "python3"
  },
  "language_info": {
   "codemirror_mode": {
    "name": "ipython",
    "version": 3
   },
   "file_extension": ".py",
   "mimetype": "text/x-python",
   "name": "python",
   "nbconvert_exporter": "python",
   "pygments_lexer": "ipython3",
   "version": "3.9.12"
  }
 },
 "nbformat": 4,
 "nbformat_minor": 5
}
